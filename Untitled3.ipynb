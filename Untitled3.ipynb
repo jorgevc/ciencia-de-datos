{
  "nbformat": 4,
  "nbformat_minor": 0,
  "metadata": {
    "colab": {
      "provenance": [],
      "authorship_tag": "ABX9TyM0OdQE05zkbISkZrX5SYyR",
      "include_colab_link": true
    },
    "kernelspec": {
      "name": "python3",
      "display_name": "Python 3"
    },
    "language_info": {
      "name": "python"
    }
  },
  "cells": [
    {
      "cell_type": "markdown",
      "metadata": {
        "id": "view-in-github",
        "colab_type": "text"
      },
      "source": [
        "<a href=\"https://colab.research.google.com/github/jorgevc/ciencia-de-datos/blob/main/Untitled3.ipynb\" target=\"_parent\"><img src=\"https://colab.research.google.com/assets/colab-badge.svg\" alt=\"Open In Colab\"/></a>"
      ]
    },
    {
      "cell_type": "code",
      "execution_count": null,
      "metadata": {
        "id": "sO6OSp6KiItV"
      },
      "outputs": [],
      "source": [
        "x=3+3"
      ]
    },
    {
      "cell_type": "code",
      "source": [
        "y=9+2"
      ],
      "metadata": {
        "id": "Mgeqti79ie3k"
      },
      "execution_count": null,
      "outputs": []
    }
  ]
}